{
 "cells": [
  {
   "cell_type": "code",
   "execution_count": null,
   "metadata": {},
   "outputs": [],
   "source": [
    "#takes from the \"slumlords\" zip file, looks as specifically the \"FAMILYTIE_FIG3\" data"
   ]
  },
  {
   "cell_type": "code",
   "execution_count": 38,
   "metadata": {},
   "outputs": [],
   "source": [
    "from io import BytesIO\n",
    "from zipfile import ZipFile\n",
    "import networkx as nx\n",
    "import pandas as pd"
   ]
  },
  {
   "cell_type": "code",
   "execution_count": 39,
   "metadata": {},
   "outputs": [],
   "source": [
    "with ZipFile('slumlords.zip', 'r') as zipObj:\n",
    "   zipObj.extractall()"
   ]
  },
  {
   "cell_type": "code",
   "execution_count": 40,
   "metadata": {},
   "outputs": [],
   "source": [
    "slumfile = pd.read_csv('FAMILYTIE_FIG3.csv')"
   ]
  },
  {
   "cell_type": "code",
   "execution_count": 41,
   "metadata": {},
   "outputs": [
    {
     "data": {
      "text/html": [
       "<div>\n",
       "<style scoped>\n",
       "    .dataframe tbody tr th:only-of-type {\n",
       "        vertical-align: middle;\n",
       "    }\n",
       "\n",
       "    .dataframe tbody tr th {\n",
       "        vertical-align: top;\n",
       "    }\n",
       "\n",
       "    .dataframe thead th {\n",
       "        text-align: right;\n",
       "    }\n",
       "</style>\n",
       "<table border=\"1\" class=\"dataframe\">\n",
       "  <thead>\n",
       "    <tr style=\"text-align: right;\">\n",
       "      <th></th>\n",
       "      <th>Unnamed: 0</th>\n",
       "      <th>Andre</th>\n",
       "      <th>Beverly</th>\n",
       "      <th>Ed</th>\n",
       "      <th>Carol</th>\n",
       "      <th>Diane</th>\n",
       "      <th>Garth</th>\n",
       "      <th>Fred</th>\n",
       "      <th>Ike</th>\n",
       "      <th>Jane</th>\n",
       "      <th>Lee</th>\n",
       "      <th>Kate</th>\n",
       "    </tr>\n",
       "  </thead>\n",
       "  <tbody>\n",
       "    <tr>\n",
       "      <th>0</th>\n",
       "      <td>Andre</td>\n",
       "      <td>0</td>\n",
       "      <td>1</td>\n",
       "      <td>0</td>\n",
       "      <td>1</td>\n",
       "      <td>1</td>\n",
       "      <td>0</td>\n",
       "      <td>0</td>\n",
       "      <td>0</td>\n",
       "      <td>0</td>\n",
       "      <td>0</td>\n",
       "      <td>0</td>\n",
       "    </tr>\n",
       "    <tr>\n",
       "      <th>1</th>\n",
       "      <td>Beverly</td>\n",
       "      <td>1</td>\n",
       "      <td>0</td>\n",
       "      <td>1</td>\n",
       "      <td>0</td>\n",
       "      <td>0</td>\n",
       "      <td>1</td>\n",
       "      <td>0</td>\n",
       "      <td>0</td>\n",
       "      <td>0</td>\n",
       "      <td>0</td>\n",
       "      <td>0</td>\n",
       "    </tr>\n",
       "    <tr>\n",
       "      <th>2</th>\n",
       "      <td>Ed</td>\n",
       "      <td>0</td>\n",
       "      <td>1</td>\n",
       "      <td>0</td>\n",
       "      <td>0</td>\n",
       "      <td>1</td>\n",
       "      <td>1</td>\n",
       "      <td>0</td>\n",
       "      <td>0</td>\n",
       "      <td>0</td>\n",
       "      <td>0</td>\n",
       "      <td>0</td>\n",
       "    </tr>\n",
       "    <tr>\n",
       "      <th>3</th>\n",
       "      <td>Carol</td>\n",
       "      <td>1</td>\n",
       "      <td>0</td>\n",
       "      <td>0</td>\n",
       "      <td>0</td>\n",
       "      <td>1</td>\n",
       "      <td>0</td>\n",
       "      <td>1</td>\n",
       "      <td>0</td>\n",
       "      <td>0</td>\n",
       "      <td>0</td>\n",
       "      <td>0</td>\n",
       "    </tr>\n",
       "    <tr>\n",
       "      <th>4</th>\n",
       "      <td>Diane</td>\n",
       "      <td>1</td>\n",
       "      <td>0</td>\n",
       "      <td>1</td>\n",
       "      <td>1</td>\n",
       "      <td>0</td>\n",
       "      <td>1</td>\n",
       "      <td>1</td>\n",
       "      <td>0</td>\n",
       "      <td>0</td>\n",
       "      <td>0</td>\n",
       "      <td>0</td>\n",
       "    </tr>\n",
       "    <tr>\n",
       "      <th>5</th>\n",
       "      <td>Garth</td>\n",
       "      <td>0</td>\n",
       "      <td>0</td>\n",
       "      <td>1</td>\n",
       "      <td>0</td>\n",
       "      <td>1</td>\n",
       "      <td>0</td>\n",
       "      <td>1</td>\n",
       "      <td>0</td>\n",
       "      <td>0</td>\n",
       "      <td>0</td>\n",
       "      <td>0</td>\n",
       "    </tr>\n",
       "    <tr>\n",
       "      <th>6</th>\n",
       "      <td>Fred</td>\n",
       "      <td>0</td>\n",
       "      <td>0</td>\n",
       "      <td>0</td>\n",
       "      <td>1</td>\n",
       "      <td>1</td>\n",
       "      <td>1</td>\n",
       "      <td>0</td>\n",
       "      <td>0</td>\n",
       "      <td>0</td>\n",
       "      <td>0</td>\n",
       "      <td>0</td>\n",
       "    </tr>\n",
       "    <tr>\n",
       "      <th>7</th>\n",
       "      <td>Ike</td>\n",
       "      <td>0</td>\n",
       "      <td>0</td>\n",
       "      <td>0</td>\n",
       "      <td>0</td>\n",
       "      <td>0</td>\n",
       "      <td>0</td>\n",
       "      <td>0</td>\n",
       "      <td>0</td>\n",
       "      <td>1</td>\n",
       "      <td>0</td>\n",
       "      <td>1</td>\n",
       "    </tr>\n",
       "    <tr>\n",
       "      <th>8</th>\n",
       "      <td>Jane</td>\n",
       "      <td>0</td>\n",
       "      <td>0</td>\n",
       "      <td>0</td>\n",
       "      <td>0</td>\n",
       "      <td>0</td>\n",
       "      <td>0</td>\n",
       "      <td>0</td>\n",
       "      <td>1</td>\n",
       "      <td>0</td>\n",
       "      <td>1</td>\n",
       "      <td>0</td>\n",
       "    </tr>\n",
       "    <tr>\n",
       "      <th>9</th>\n",
       "      <td>Lee</td>\n",
       "      <td>0</td>\n",
       "      <td>0</td>\n",
       "      <td>0</td>\n",
       "      <td>0</td>\n",
       "      <td>0</td>\n",
       "      <td>0</td>\n",
       "      <td>0</td>\n",
       "      <td>0</td>\n",
       "      <td>1</td>\n",
       "      <td>0</td>\n",
       "      <td>1</td>\n",
       "    </tr>\n",
       "    <tr>\n",
       "      <th>10</th>\n",
       "      <td>Kate</td>\n",
       "      <td>0</td>\n",
       "      <td>0</td>\n",
       "      <td>0</td>\n",
       "      <td>0</td>\n",
       "      <td>0</td>\n",
       "      <td>0</td>\n",
       "      <td>0</td>\n",
       "      <td>1</td>\n",
       "      <td>0</td>\n",
       "      <td>1</td>\n",
       "      <td>0</td>\n",
       "    </tr>\n",
       "  </tbody>\n",
       "</table>\n",
       "</div>"
      ],
      "text/plain": [
       "   Unnamed: 0  Andre  Beverly  Ed  Carol  Diane  Garth  Fred  Ike  Jane  Lee  \\\n",
       "0       Andre      0        1   0      1      1      0     0    0     0    0   \n",
       "1     Beverly      1        0   1      0      0      1     0    0     0    0   \n",
       "2          Ed      0        1   0      0      1      1     0    0     0    0   \n",
       "3       Carol      1        0   0      0      1      0     1    0     0    0   \n",
       "4       Diane      1        0   1      1      0      1     1    0     0    0   \n",
       "5       Garth      0        0   1      0      1      0     1    0     0    0   \n",
       "6        Fred      0        0   0      1      1      1     0    0     0    0   \n",
       "7         Ike      0        0   0      0      0      0     0    0     1    0   \n",
       "8        Jane      0        0   0      0      0      0     0    1     0    1   \n",
       "9         Lee      0        0   0      0      0      0     0    0     1    0   \n",
       "10       Kate      0        0   0      0      0      0     0    1     0    1   \n",
       "\n",
       "    Kate  \n",
       "0      0  \n",
       "1      0  \n",
       "2      0  \n",
       "3      0  \n",
       "4      0  \n",
       "5      0  \n",
       "6      0  \n",
       "7      1  \n",
       "8      0  \n",
       "9      1  \n",
       "10     0  "
      ]
     },
     "execution_count": 41,
     "metadata": {},
     "output_type": "execute_result"
    }
   ],
   "source": [
    "slumfile"
   ]
  },
  {
   "cell_type": "code",
   "execution_count": 42,
   "metadata": {},
   "outputs": [],
   "source": [
    "fam_tie = nx.Graph()"
   ]
  },
  {
   "cell_type": "code",
   "execution_count": 53,
   "metadata": {},
   "outputs": [],
   "source": [
    "fam_tie.add_edge('Andre' , 'Beverly')\n",
    "fam_tie.add_edge('Andre' , 'Diane')\n",
    "fam_tie.add_edge('Andre' , 'Carol')\n",
    "fam_tie.add_edge('Beverly' , 'Ed')\n",
    "fam_tie.add_edge('Beverly' , 'Garth')\n",
    "fam_tie.add_edge('Ed' , 'Diane')\n",
    "fam_tie.add_edge('Ed' , 'Garth')\n",
    "fam_tie.add_edge('Carol' , 'Diane')\n",
    "fam_tie.add_edge('Carol' , 'Fred')\n",
    "fam_tie.add_edge('Diane' , 'Garth')\n",
    "fam_tie.add_edge('Diane' , 'Fred')\n",
    "fam_tie.add_edge('Garth' , 'Fred')\n",
    "fam_tie.add_edge('Ike' , 'Kate')\n",
    "fam_tie.add_edge('Ike' , 'Jane')\n",
    "fam_tie.add_edge('Jane' , 'Lee')\n",
    "fam_tie.add_edge('Lee' , 'Kate')"
   ]
  },
  {
   "cell_type": "code",
   "execution_count": 54,
   "metadata": {},
   "outputs": [
    {
     "data": {
      "image/png": "[encoded data removed]",
      "text/plain": [
       "<Figure size 432x288 with 1 Axes>"
      ]
     },
     "metadata": {},
     "output_type": "display_data"
    }
   ],
   "source": [
    "nx.draw_networkx(fam_tie)"
   ]
  },
  {
   "cell_type": "code",
   "execution_count": 55,
   "metadata": {},
   "outputs": [
    {
     "data": {
      "text/plain": [
       "DegreeView({'Andre': 3, 'Beverly': 3, 'Diane': 5, 'Carol': 3, 'Ed': 3, 'Garth': 4, 'Fred': 3, 'Ike': 2, 'Kate': 2, 'Jane': 2, 'Lee': 2})"
      ]
     },
     "execution_count": 55,
     "metadata": {},
     "output_type": "execute_result"
    }
   ],
   "source": [
    "nx.degree(fam_tie)"
   ]
  },
  {
   "cell_type": "code",
   "execution_count": 56,
   "metadata": {},
   "outputs": [
    {
     "data": {
      "image/png": "[encoded data removed]",
      "text/plain": [
       "<Figure size 432x288 with 1 Axes>"
      ]
     },
     "metadata": {},
     "output_type": "display_data"
    }
   ],
   "source": [
    "#based on the above degrees, Diane is the most \"vital\" to this group\n",
    "#if you were to remove Diane:\n",
    "    #the Jane, Lee, Kate, and Ike group would have no effect\n",
    "    #but the carol, Fred, Garth, Ed, Beverly, Andre grou pwould be effected\n",
    "    #Diane would neither be the center of the group, and the \"shortest path\"\n",
    "    #for the majority of those connections would be a lot longer, without going through Diane\n",
    "fam_tie2 = nx.Graph()\n",
    "fam_tie2.add_edge('Andre' , 'Beverly')\n",
    "fam_tie2.add_edge('Andre' , 'Carol')\n",
    "fam_tie2.add_edge('Beverly' , 'Ed')\n",
    "fam_tie2.add_edge('Beverly' , 'Garth')\n",
    "fam_tie2.add_edge('Ed' , 'Garth')\n",
    "fam_tie2.add_edge('Carol' , 'Fred')\n",
    "fam_tie2.add_edge('Garth' , 'Fred')\n",
    "fam_tie2.add_edge('Ike' , 'Kate')\n",
    "fam_tie2.add_edge('Ike' , 'Jane')\n",
    "fam_tie2.add_edge('Jane' , 'Lee')\n",
    "fam_tie2.add_edge('Lee' , 'Kate')\n",
    "\n",
    "nx.draw_networkx(fam_tie2)"
   ]
  },
  {
   "cell_type": "code",
   "execution_count": 57,
   "metadata": {},
   "outputs": [
    {
     "data": {
      "image/png": "[encoded data removed]",
      "text/plain": [
       "<Figure size 432x288 with 1 Axes>"
      ]
     },
     "metadata": {},
     "output_type": "display_data"
    }
   ],
   "source": [
    "#STRONGEST LINK = DIANE\n",
    "#WEAKEST LINK = IKE, KATE, LEE, JANE\n",
    "    #for instance, if you take Ike and Lee out, then Kate and Jane have no connections whatsoever\n",
    "    #same goes if you take Kate and Jane out, then Ike and Lee are without any connections\n",
    "    \n",
    "#weakest link observed: (when removing Ike and Lee)\n",
    "weak = nx.Graph()\n",
    "weak.add_edge('Andre' , 'Beverly')\n",
    "weak.add_edge('Andre' , 'Diane')\n",
    "weak.add_edge('Andre' , 'Carol')\n",
    "weak.add_edge('Beverly' , 'Ed')\n",
    "weak.add_edge('Beverly' , 'Garth')\n",
    "weak.add_edge('Ed' , 'Diane')\n",
    "weak.add_edge('Ed' , 'Garth')\n",
    "weak.add_edge('Carol' , 'Diane')\n",
    "weak.add_edge('Carol' , 'Fred')\n",
    "weak.add_edge('Diane' , 'Garth')\n",
    "weak.add_edge('Diane' , 'Fred')\n",
    "weak.add_edge('Garth' , 'Fred')\n",
    "nx.draw_networkx(weak)\n",
    "\n",
    "#this below shows that when you remove Ike and Lee and all of their connections,\n",
    "#Kate and Jane have no connections to anything and therefore are \n",
    "#essentially non-existent in the network"
   ]
  }
 ],
 "metadata": {
  "kernelspec": {
   "display_name": "Python 3",
   "language": "python",
   "name": "python3"
  },
  "language_info": {
   "codemirror_mode": {
    "name": "ipython",
    "version": 3
   },
   "file_extension": ".py",
   "mimetype": "text/x-python",
   "name": "python",
   "nbconvert_exporter": "python",
   "pygments_lexer": "ipython3",
   "version": "3.7.6"
  }
 },
 "nbformat": 4,
 "nbformat_minor": 4
}
