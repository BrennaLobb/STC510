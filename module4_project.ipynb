{
 "cells": [
  {
   "cell_type": "code",
   "execution_count": null,
   "metadata": {},
   "outputs": [],
   "source": [
    "#steps:\n",
    "  #need to extract links\n",
    "  #sort through them to make sure you're only getting the links in teh gallery\n",
    "  #might need to look through BS docs at how to get hrefs from \"A\" tags\n",
    "  #ones you now have LIST of URLs, crawl 1 by one\n",
    "    #search teh text of the ads for keywords (matress, cabinet and wrench)"
   ]
  },
  {
   "cell_type": "code",
   "execution_count": 1,
   "metadata": {},
   "outputs": [],
   "source": [
    "import requests\n",
    "from bs4 import BeautifulSoup\n",
    "from time import sleep\n",
    "import pandas as pd"
   ]
  },
  {
   "cell_type": "code",
   "execution_count": 2,
   "metadata": {},
   "outputs": [],
   "source": [
    "url = requests.get('https://phoenix.craigslist.org/d/garage-moving-sales/search/gms')\n",
    "gs_link = BeautifulSoup(url.text,'html.parser')\n",
    "listings = gs_link.find_all('li',class_='result-row')"
   ]
  },
  {
   "cell_type": "code",
   "execution_count": 4,
   "metadata": {},
   "outputs": [
    {
     "name": "stdout",
     "output_type": "stream",
     "text": [
      "\n",
      "\n"
     ]
    }
   ],
   "source": [
    "#now need post_links\n",
    "ltts=[]\n",
    "llinks=[]\n",
    "\n",
    "for l in listings:\n",
    "    list_title=l.find('a',class_='result-title hdrlnk')\n",
    "    list_title_text= list_title.text\n",
    "    ltts.append(list_title_text)\n",
    "    list_link= list_title['href']\n",
    "    llinks.append(list_link)\n",
    "print('\\n')"
   ]
  },
  {
   "cell_type": "code",
   "execution_count": 5,
   "metadata": {},
   "outputs": [
    {
     "data": {
      "text/plain": [
       "['Everything must go living room set dining room sets bedroom sets',\n",
       " 'Free backyard fireplace',\n",
       " 'ANTIQUES / JEWELRY & MORE',\n",
       " \"garage door for golf cart 6' wide 7' tall\",\n",
       " 'GREENWORKS LAWN MOWER - NEW 40V BATTERY',\n",
       " 'curb alert',\n",
       " 'Free stuff on corner',\n",
       " \"garage door for golf cart 6' wide 7' tall\",\n",
       " 'Emergency sale. My loss your gain',\n",
       " 'Very Hi-End Home furnishings, original art,',\n",
       " 'Moving sale - everything must go',\n",
       " \"garage door for golf cart 6' wide 7' tall\",\n",
       " 'Very Hi-End Home furnishings, original art,',\n",
       " 'ANTIQUES / JEWELRY & MORE',\n",
       " 'ESTATE SALE Feb 18, 19 & 20th',\n",
       " 'Moving Driveway Furniture Sale',\n",
       " 'Very Hi-End Home furnishings, original art,',\n",
       " 'Moving sale - everything must go',\n",
       " 'ESTATE SALE Feb 18, 19 & 20th',\n",
       " 'Really big yard sale',\n",
       " 'moving sale',\n",
       " 'Estate Sale  Part 1',\n",
       " 'Moving sale',\n",
       " 'Carpet cleaning',\n",
       " 'Yard Sale',\n",
       " 'Moving sale...',\n",
       " 'Large yard sale',\n",
       " 'Business Closing Sale This Fri Sat Sun',\n",
       " 'First-rate February Sale',\n",
       " 'Moving Sale',\n",
       " 'Garage Sale - 2 days',\n",
       " 'Pre-Moving Sale 147th Ave. & Jomax Rd',\n",
       " 'Moving Sale',\n",
       " 'ESTATE SALE Feb 18, 19 & 20th',\n",
       " 'Really big yard sale',\n",
       " 'moving sale',\n",
       " 'Estate Sale  Part 1',\n",
       " 'Carpet cleaning',\n",
       " 'Yard Sale',\n",
       " 'Moving sale...',\n",
       " 'Large yard sale',\n",
       " 'Business Closing Sale This Fri Sat Sun',\n",
       " 'First-rate February Sale',\n",
       " 'Moving Sale',\n",
       " 'Garage Sale - 2 days',\n",
       " 'Garage Sale',\n",
       " 'Estate Sale',\n",
       " 'Payson AZ Moving Sale Furniture TVs Storage and more',\n",
       " 'ESTATE SALE',\n",
       " 'Multi-Family Yard Sale (Buckeye / Goodyear)',\n",
       " 'Vendor Fair!  Join us for a great day outdoors!',\n",
       " 'Divorce Garage Sale',\n",
       " 'MOVING SALE',\n",
       " 'Estate sale',\n",
       " 'Estate Sale',\n",
       " 'Everything goes',\n",
       " 'Garage Sale',\n",
       " 'Inventory liquidation',\n",
       " 'Large Moving Sale',\n",
       " 'Moving Sale',\n",
       " 'Carpet cleaning',\n",
       " 'Large yard sale',\n",
       " 'Business Closing Sale This Fri Sat Sun',\n",
       " 'Moving Sale',\n",
       " 'Estate Sale',\n",
       " 'ESTATE SALE',\n",
       " 'Multi-Family Yard Sale (Buckeye / Goodyear)',\n",
       " 'Vendor Fair!  Join us for a great day outdoors!',\n",
       " 'Divorce Garage Sale',\n",
       " 'MOVING SALE',\n",
       " 'Estate sale',\n",
       " 'Storage Auction',\n",
       " 'GREENWORKS LAWN MOWER - NEW 40V BATTERY',\n",
       " 'ANTIQUES / JEWELRY & MORE',\n",
       " 'Garage Sale',\n",
       " 'Garage Sale',\n",
       " 'Garage ART (and miscellaneous) Sale',\n",
       " 'Garage Sale',\n",
       " 'Prescott Valley Estate Sale',\n",
       " 'Huge estate sale! Cars, electronics, by appointment only',\n",
       " 'Beer brewing equipment',\n",
       " 'Tanqueverde Swap Meet Flea Market',\n",
       " 'Foothills Sunday Market',\n",
       " 'Yard sale',\n",
       " 'Firewood',\n",
       " 'Several household items available',\n",
       " 'EVERYTHING MUST GO SALE!!!',\n",
       " 'Huge estate sale!!!',\n",
       " 'Hundreds of items for sale',\n",
       " 'Jewelry, Gold, Gemstones, Turquoise, Sterling Silver',\n",
       " 'Designer, upscale garage sale',\n",
       " 'Top Hat 40x80 Workshop Sale',\n",
       " 'Estate Sale, 2/18 thru 2/21, 9a-3p',\n",
       " 'ESTATE SALE',\n",
       " 'Grasons Estate Sale Fri, Sat, Sun Feb 19-21',\n",
       " '**ESTATE SALE** FURNITURE, KITCHEN, BEDDING, & MORE!',\n",
       " 'MOVING SALE',\n",
       " 'Yard Sale',\n",
       " 'BIG YARD SALE',\n",
       " 'SAVE THE DATE!!! ONE DAY PARKING LOT FLEA MARKET SALE',\n",
       " 'Yard Sale! Everything must go!',\n",
       " 'ESTATE & COLLECTABLE Sale Feb. 20th',\n",
       " 'Estate Sale',\n",
       " 'Gifts, Decor & Upcycled Treasures',\n",
       " 'Estate Sale',\n",
       " 'Friendly Flea Market In Snowflake',\n",
       " 'Here is an old cool items for sale.',\n",
       " 'Bring out with the whole family to the 77 Swap Meet',\n",
       " '77 SWAP MEET, White Mountain Lake Az.',\n",
       " 'Live Auction Friday Feb. 19',\n",
       " 'Moving Sale Payson Furniture Electronics Exercise Equip Kitchen wares',\n",
       " 'Inventory liquidation',\n",
       " 'Moving Sale - Reduced Prices!',\n",
       " 'Yard Sale',\n",
       " 'WHISKEY, CASINO, MILITARY, LICENSE PLATES  COLLECTIBES     LES',\n",
       " 'Two Household Garage Sale',\n",
       " 'General Sale',\n",
       " 'Multi-family Patio Sales',\n",
       " 'Patio Heater']"
      ]
     },
     "execution_count": 5,
     "metadata": {},
     "output_type": "execute_result"
    }
   ],
   "source": [
    "ltts"
   ]
  },
  {
   "cell_type": "code",
   "execution_count": 15,
   "metadata": {},
   "outputs": [
    {
     "data": {
      "text/plain": [
       "<section id=\"postingbody\">\n",
       "<div class=\"print-information print-qrcode-container\">\n",
       "<p class=\"print-qrcode-label\">QR Code Link to This Post</p>\n",
       "<div class=\"print-qrcode\" data-location=\"https://phoenix.craigslist.org/cph/gms/d/maricopa-antiques-jewelry-more/7274855889.html\"></div>\n",
       "</div>\n",
       "HOBBY HORSES,  CABBAGE PATCH DOLLS, ELVIS , V WHITE ; MT,T DOLLS. WEDDING DRESS ,SIZE 10.    E COIL SHOES SIZE 10      20.00. POLOS ; BELT BUCKELS  15.00.  RING 2,000 0 B 0    </section>"
      ]
     },
     "execution_count": 15,
     "metadata": {},
     "output_type": "execute_result"
    }
   ],
   "source": [
    "result = requests.get(llinks[10])\n",
    "result2= BeautifulSoup(result.text,'html.parser')\n",
    "body= result2.find(id='postingbody')\n",
    "body"
   ]
  },
  {
   "cell_type": "code",
   "execution_count": 13,
   "metadata": {},
   "outputs": [],
   "source": [
    "check_list=[]\n",
    "#llinks = llinks.dropna()\n",
    "for l in llinks:\n",
    "    #print('check', l)\n",
    "    responses = requests.get(l)\n",
    "    responses2 = BeautifulSoup(responses.text, 'html.parser')\n",
    "    sleep(5)\n",
    "    body = responses2.find(id='postingbody')\n",
    "    if 'mattress' in body.text:\n",
    "        check1=('mattress', l)\n",
    "        check_list.append(check1)\n",
    "    if 'cabinet' in body.text:\n",
    "        check2=('cabinet',l)\n",
    "        check_list.append(check2)\n",
    "    if 'wrench' in body.text:\n",
    "        check3=('wrench')\n",
    "        check_list.append(check3)"
   ]
  },
  {
   "cell_type": "code",
   "execution_count": 14,
   "metadata": {},
   "outputs": [
    {
     "data": {
      "text/plain": [
       "[('mattress',\n",
       "  'https://phoenix.craigslist.org/nph/gms/d/glendale-moving-driveway-furniture-sale/7278239028.html'),\n",
       " ('cabinet',\n",
       "  'https://phoenix.craigslist.org/nph/gms/d/glendale-moving-driveway-furniture-sale/7278239028.html'),\n",
       " ('cabinet',\n",
       "  'https://phoenix.craigslist.org/nph/gms/d/phoenix-estate-sale/7271009444.html'),\n",
       " ('cabinet',\n",
       "  'https://phoenix.craigslist.org/nph/gms/d/phoenix-estate-sale/7271009444.html'),\n",
       " ('cabinet',\n",
       "  'https://prescott.craigslist.org/gms/d/prescott-valley-prescott-valley-estate/7273095854.html'),\n",
       " ('mattress',\n",
       "  'https://tucson.craigslist.org/gms/d/tucson-hundreds-of-items-for-sale/7275030371.html'),\n",
       " ('mattress',\n",
       "  'https://tucson.craigslist.org/gms/d/tucson-estate-sale-18-thru-3p/7278276537.html'),\n",
       " ('mattress',\n",
       "  'https://tucson.craigslist.org/gms/d/tucson-estate-sale-furniture-kitchen/7277458733.html'),\n",
       " ('mattress',\n",
       "  'https://flagstaff.craigslist.org/gms/d/cottonwood-estate-sale/7277607123.html'),\n",
       " ('cabinet',\n",
       "  'https://flagstaff.craigslist.org/gms/d/cornville-estate-sale/7277901457.html')]"
      ]
     },
     "execution_count": 14,
     "metadata": {},
     "output_type": "execute_result"
    }
   ],
   "source": [
    "check_list"
   ]
  }
 ],
 "metadata": {
  "kernelspec": {
   "display_name": "Python 3",
   "language": "python",
   "name": "python3"
  },
  "language_info": {
   "codemirror_mode": {
    "name": "ipython",
    "version": 3
   },
   "file_extension": ".py",
   "mimetype": "text/x-python",
   "name": "python",
   "nbconvert_exporter": "python",
   "pygments_lexer": "ipython3",
   "version": "3.7.6"
  }
 },
 "nbformat": 4,
 "nbformat_minor": 4
}
