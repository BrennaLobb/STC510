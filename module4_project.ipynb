{
 "cells": [
  {
   "cell_type": "code",
   "execution_count": null,
   "metadata": {},
   "outputs": [],
   "source": [
    "#steps:\n",
    "  #need to extract links\n",
    "  #sort through them to make sure you're only getting the links in teh gallery\n",
    "  #might need to look through BS docs at how to get hrefs from \"A\" tags\n",
    "  #ones you now have LIST of URLs, crawl 1 by one\n",
    "    #search teh text of the ads for keywords (matress, cabinet and wrench)\n",
    "\n",
    "  #store the list into a CSV that contains the (keyword and URL it's in)"
   ]
  },
  {
   "cell_type": "code",
   "execution_count": 10,
   "metadata": {},
   "outputs": [],
   "source": [
    "import requests\n",
    "from bs4 import BeautifulSoup\n",
    "from time import sleep\n",
    "import pandas as pd"
   ]
  },
  {
   "cell_type": "code",
   "execution_count": null,
   "metadata": {},
   "outputs": [],
   "source": [
    "# I realize this code doesn't work. i will try to fix it but i wanted to show you what\n",
    "#i currently have as of 10:46pm, monday night\n",
    "#so i can get some feedback to go off of.\n",
    "\n",
    "#i haven't been feeling the best, mentally with this homework i don't understand\n",
    "#with work, with the stress of graduating, etc.\n",
    "\n",
    "#so please bear?? (bare)?? with me. I am just trying to pass this class, that's all"
   ]
  },
  {
   "cell_type": "code",
   "execution_count": 11,
   "metadata": {},
   "outputs": [],
   "source": [
    "posts = requests.get('https://phoenix.craigslist.org/d/garage-moving-sales/search/gms')\n",
    "bs = BeautifulSoup(posts.text,'html.parser')\n",
    "post_links = bs.find_all('li', class_='result-row')"
   ]
  },
  {
   "cell_type": "code",
   "execution_count": 12,
   "metadata": {},
   "outputs": [
    {
     "name": "stdout",
     "output_type": "stream",
     "text": [
      "check <li class=\"result-row\" data-pid=\"7262674140\">\n",
      "<a class=\"result-image gallery\" data-ids=\"3:00t0t_82MUYPwLSgUz_0CI0hq,3:00303_6CrYg1WsGTRz_0CI0hq,3:00c0c_7VJvjjwJejoz_06s04Q,3:00202_1aonhvttUREz_0ak07K,3:00303_6gEqFnW4rZUz_06s04Q,3:01212_7HYcsN6AiFQz_0CI0lM\" href=\"https://phoenix.craigslist.org/evl/gms/d/mesa-estate-sale/7262674140.html\">\n",
      "<span class=\"result-price\">$0</span>\n",
      "</a>\n",
      "<div class=\"result-info\">\n",
      "<span class=\"icon icon-star\" role=\"button\">\n",
      "<span class=\"screen-reader-text\">favorite this post</span>\n",
      "</span>\n",
      "<h3 class=\"result-heading\">\n",
      "<a class=\"result-title hdrlnk\" data-id=\"7262674140\" href=\"https://phoenix.craigslist.org/evl/gms/d/mesa-estate-sale/7262674140.html\" id=\"postid_7262674140\">ESTATE SALE...............................</a>\n",
      "</h3>\n",
      "<span class=\"result-meta\">\n",
      "<span class=\"result-price\">$0</span>\n",
      "<span class=\"result-hood\"> (MESA)</span>\n",
      "<span class=\"result-tags\">\n",
      "<span class=\"pictag\">pic</span>\n",
      "</span>\n",
      "<span class=\"banish icon icon-trash\" role=\"button\">\n",
      "<span class=\"screen-reader-text\">hide this posting</span>\n",
      "</span>\n",
      "<span aria-hidden=\"true\" class=\"unbanish icon icon-trash red\" role=\"button\"></span>\n",
      "<a class=\"restore-link\" href=\"#\">\n",
      "<span class=\"restore-narrow-text\">restore</span>\n",
      "<span class=\"restore-wide-text\">restore this posting</span>\n",
      "</a>\n",
      "</span>\n",
      "</div>\n",
      "</li>\n"
     ]
    },
    {
     "ename": "InvalidSchema",
     "evalue": "No connection adapters were found for '<li class=\"result-row\" data-pid=\"7262674140\">\n<a class=\"result-image gallery\" data-ids=\"3:00t0t_82MUYPwLSgUz_0CI0hq,3:00303_6CrYg1WsGTRz_0CI0hq,3:00c0c_7VJvjjwJejoz_06s04Q,3:00202_1aonhvttUREz_0ak07K,3:00303_6gEqFnW4rZUz_06s04Q,3:01212_7HYcsN6AiFQz_0CI0lM\" href=\"https://phoenix.craigslist.org/evl/gms/d/mesa-estate-sale/7262674140.html\">\n<span class=\"result-price\">$0</span>\n</a>\n<div class=\"result-info\">\n<span class=\"icon icon-star\" role=\"button\">\n<span class=\"screen-reader-text\">favorite this post</span>\n</span>\n<h3 class=\"result-heading\">\n<a class=\"result-title hdrlnk\" data-id=\"7262674140\" href=\"https://phoenix.craigslist.org/evl/gms/d/mesa-estate-sale/7262674140.html\" id=\"postid_7262674140\">ESTATE SALE...............................</a>\n</h3>\n<span class=\"result-meta\">\n<span class=\"result-price\">$0</span>\n<span class=\"result-hood\"> (MESA)</span>\n<span class=\"result-tags\">\n<span class=\"pictag\">pic</span>\n</span>\n<span class=\"banish icon icon-trash\" role=\"button\">\n<span class=\"screen-reader-text\">hide this posting</span>\n</span>\n<span aria-hidden=\"true\" class=\"unbanish icon icon-trash red\" role=\"button\"></span>\n<a class=\"restore-link\" href=\"#\">\n<span class=\"restore-narrow-text\">restore</span>\n<span class=\"restore-wide-text\">restore this posting</span>\n</a>\n</span>\n</div>\n</li>'",
     "output_type": "error",
     "traceback": [
      "\u001b[0;31m---------------------------------------------------------------------------\u001b[0m",
      "\u001b[0;31mInvalidSchema\u001b[0m                             Traceback (most recent call last)",
      "\u001b[0;32m<ipython-input-12-d9a15b597f50>\u001b[0m in \u001b[0;36m<module>\u001b[0;34m\u001b[0m\n\u001b[1;32m      1\u001b[0m \u001b[0;32mfor\u001b[0m \u001b[0ml\u001b[0m \u001b[0;32min\u001b[0m \u001b[0mpost_links\u001b[0m\u001b[0;34m:\u001b[0m\u001b[0;34m\u001b[0m\u001b[0;34m\u001b[0m\u001b[0m\n\u001b[1;32m      2\u001b[0m     \u001b[0mprint\u001b[0m \u001b[0;34m(\u001b[0m\u001b[0;34m'check'\u001b[0m\u001b[0;34m,\u001b[0m\u001b[0ml\u001b[0m\u001b[0;34m)\u001b[0m\u001b[0;34m\u001b[0m\u001b[0;34m\u001b[0m\u001b[0m\n\u001b[0;32m----> 3\u001b[0;31m     \u001b[0mresult1\u001b[0m \u001b[0;34m=\u001b[0m \u001b[0mrequests\u001b[0m\u001b[0;34m.\u001b[0m\u001b[0mget\u001b[0m\u001b[0;34m(\u001b[0m\u001b[0ml\u001b[0m\u001b[0;34m)\u001b[0m\u001b[0;34m\u001b[0m\u001b[0;34m\u001b[0m\u001b[0m\n\u001b[0m\u001b[1;32m      4\u001b[0m     \u001b[0mresult2\u001b[0m \u001b[0;34m=\u001b[0m \u001b[0mBeautifulSoup\u001b[0m\u001b[0;34m(\u001b[0m\u001b[0mresult1\u001b[0m\u001b[0;34m.\u001b[0m\u001b[0mtext\u001b[0m\u001b[0;34m,\u001b[0m\u001b[0;34m'html.parser'\u001b[0m\u001b[0;34m)\u001b[0m\u001b[0;34m\u001b[0m\u001b[0;34m\u001b[0m\u001b[0m\n\u001b[1;32m      5\u001b[0m     \u001b[0msleep\u001b[0m\u001b[0;34m(\u001b[0m\u001b[0;36m6\u001b[0m\u001b[0;34m)\u001b[0m\u001b[0;34m\u001b[0m\u001b[0;34m\u001b[0m\u001b[0m\n",
      "\u001b[0;32m~/opt/anaconda3/lib/python3.7/site-packages/requests/api.py\u001b[0m in \u001b[0;36mget\u001b[0;34m(url, params, **kwargs)\u001b[0m\n\u001b[1;32m     73\u001b[0m \u001b[0;34m\u001b[0m\u001b[0m\n\u001b[1;32m     74\u001b[0m     \u001b[0mkwargs\u001b[0m\u001b[0;34m.\u001b[0m\u001b[0msetdefault\u001b[0m\u001b[0;34m(\u001b[0m\u001b[0;34m'allow_redirects'\u001b[0m\u001b[0;34m,\u001b[0m \u001b[0;32mTrue\u001b[0m\u001b[0;34m)\u001b[0m\u001b[0;34m\u001b[0m\u001b[0;34m\u001b[0m\u001b[0m\n\u001b[0;32m---> 75\u001b[0;31m     \u001b[0;32mreturn\u001b[0m \u001b[0mrequest\u001b[0m\u001b[0;34m(\u001b[0m\u001b[0;34m'get'\u001b[0m\u001b[0;34m,\u001b[0m \u001b[0murl\u001b[0m\u001b[0;34m,\u001b[0m \u001b[0mparams\u001b[0m\u001b[0;34m=\u001b[0m\u001b[0mparams\u001b[0m\u001b[0;34m,\u001b[0m \u001b[0;34m**\u001b[0m\u001b[0mkwargs\u001b[0m\u001b[0;34m)\u001b[0m\u001b[0;34m\u001b[0m\u001b[0;34m\u001b[0m\u001b[0m\n\u001b[0m\u001b[1;32m     76\u001b[0m \u001b[0;34m\u001b[0m\u001b[0m\n\u001b[1;32m     77\u001b[0m \u001b[0;34m\u001b[0m\u001b[0m\n",
      "\u001b[0;32m~/opt/anaconda3/lib/python3.7/site-packages/requests/api.py\u001b[0m in \u001b[0;36mrequest\u001b[0;34m(method, url, **kwargs)\u001b[0m\n\u001b[1;32m     58\u001b[0m     \u001b[0;31m# cases, and look like a memory leak in others.\u001b[0m\u001b[0;34m\u001b[0m\u001b[0;34m\u001b[0m\u001b[0;34m\u001b[0m\u001b[0m\n\u001b[1;32m     59\u001b[0m     \u001b[0;32mwith\u001b[0m \u001b[0msessions\u001b[0m\u001b[0;34m.\u001b[0m\u001b[0mSession\u001b[0m\u001b[0;34m(\u001b[0m\u001b[0;34m)\u001b[0m \u001b[0;32mas\u001b[0m \u001b[0msession\u001b[0m\u001b[0;34m:\u001b[0m\u001b[0;34m\u001b[0m\u001b[0;34m\u001b[0m\u001b[0m\n\u001b[0;32m---> 60\u001b[0;31m         \u001b[0;32mreturn\u001b[0m \u001b[0msession\u001b[0m\u001b[0;34m.\u001b[0m\u001b[0mrequest\u001b[0m\u001b[0;34m(\u001b[0m\u001b[0mmethod\u001b[0m\u001b[0;34m=\u001b[0m\u001b[0mmethod\u001b[0m\u001b[0;34m,\u001b[0m \u001b[0murl\u001b[0m\u001b[0;34m=\u001b[0m\u001b[0murl\u001b[0m\u001b[0;34m,\u001b[0m \u001b[0;34m**\u001b[0m\u001b[0mkwargs\u001b[0m\u001b[0;34m)\u001b[0m\u001b[0;34m\u001b[0m\u001b[0;34m\u001b[0m\u001b[0m\n\u001b[0m\u001b[1;32m     61\u001b[0m \u001b[0;34m\u001b[0m\u001b[0m\n\u001b[1;32m     62\u001b[0m \u001b[0;34m\u001b[0m\u001b[0m\n",
      "\u001b[0;32m~/opt/anaconda3/lib/python3.7/site-packages/requests/sessions.py\u001b[0m in \u001b[0;36mrequest\u001b[0;34m(self, method, url, params, data, headers, cookies, files, auth, timeout, allow_redirects, proxies, hooks, stream, verify, cert, json)\u001b[0m\n\u001b[1;32m    531\u001b[0m         }\n\u001b[1;32m    532\u001b[0m         \u001b[0msend_kwargs\u001b[0m\u001b[0;34m.\u001b[0m\u001b[0mupdate\u001b[0m\u001b[0;34m(\u001b[0m\u001b[0msettings\u001b[0m\u001b[0;34m)\u001b[0m\u001b[0;34m\u001b[0m\u001b[0;34m\u001b[0m\u001b[0m\n\u001b[0;32m--> 533\u001b[0;31m         \u001b[0mresp\u001b[0m \u001b[0;34m=\u001b[0m \u001b[0mself\u001b[0m\u001b[0;34m.\u001b[0m\u001b[0msend\u001b[0m\u001b[0;34m(\u001b[0m\u001b[0mprep\u001b[0m\u001b[0;34m,\u001b[0m \u001b[0;34m**\u001b[0m\u001b[0msend_kwargs\u001b[0m\u001b[0;34m)\u001b[0m\u001b[0;34m\u001b[0m\u001b[0;34m\u001b[0m\u001b[0m\n\u001b[0m\u001b[1;32m    534\u001b[0m \u001b[0;34m\u001b[0m\u001b[0m\n\u001b[1;32m    535\u001b[0m         \u001b[0;32mreturn\u001b[0m \u001b[0mresp\u001b[0m\u001b[0;34m\u001b[0m\u001b[0;34m\u001b[0m\u001b[0m\n",
      "\u001b[0;32m~/opt/anaconda3/lib/python3.7/site-packages/requests/sessions.py\u001b[0m in \u001b[0;36msend\u001b[0;34m(self, request, **kwargs)\u001b[0m\n\u001b[1;32m    638\u001b[0m \u001b[0;34m\u001b[0m\u001b[0m\n\u001b[1;32m    639\u001b[0m         \u001b[0;31m# Get the appropriate adapter to use\u001b[0m\u001b[0;34m\u001b[0m\u001b[0;34m\u001b[0m\u001b[0;34m\u001b[0m\u001b[0m\n\u001b[0;32m--> 640\u001b[0;31m         \u001b[0madapter\u001b[0m \u001b[0;34m=\u001b[0m \u001b[0mself\u001b[0m\u001b[0;34m.\u001b[0m\u001b[0mget_adapter\u001b[0m\u001b[0;34m(\u001b[0m\u001b[0murl\u001b[0m\u001b[0;34m=\u001b[0m\u001b[0mrequest\u001b[0m\u001b[0;34m.\u001b[0m\u001b[0murl\u001b[0m\u001b[0;34m)\u001b[0m\u001b[0;34m\u001b[0m\u001b[0;34m\u001b[0m\u001b[0m\n\u001b[0m\u001b[1;32m    641\u001b[0m \u001b[0;34m\u001b[0m\u001b[0m\n\u001b[1;32m    642\u001b[0m         \u001b[0;31m# Start time (approximately) of the request\u001b[0m\u001b[0;34m\u001b[0m\u001b[0;34m\u001b[0m\u001b[0;34m\u001b[0m\u001b[0m\n",
      "\u001b[0;32m~/opt/anaconda3/lib/python3.7/site-packages/requests/sessions.py\u001b[0m in \u001b[0;36mget_adapter\u001b[0;34m(self, url)\u001b[0m\n\u001b[1;32m    729\u001b[0m \u001b[0;34m\u001b[0m\u001b[0m\n\u001b[1;32m    730\u001b[0m         \u001b[0;31m# Nothing matches :-/\u001b[0m\u001b[0;34m\u001b[0m\u001b[0;34m\u001b[0m\u001b[0;34m\u001b[0m\u001b[0m\n\u001b[0;32m--> 731\u001b[0;31m         \u001b[0;32mraise\u001b[0m \u001b[0mInvalidSchema\u001b[0m\u001b[0;34m(\u001b[0m\u001b[0;34m\"No connection adapters were found for '%s'\"\u001b[0m \u001b[0;34m%\u001b[0m \u001b[0murl\u001b[0m\u001b[0;34m)\u001b[0m\u001b[0;34m\u001b[0m\u001b[0;34m\u001b[0m\u001b[0m\n\u001b[0m\u001b[1;32m    732\u001b[0m \u001b[0;34m\u001b[0m\u001b[0m\n\u001b[1;32m    733\u001b[0m     \u001b[0;32mdef\u001b[0m \u001b[0mclose\u001b[0m\u001b[0;34m(\u001b[0m\u001b[0mself\u001b[0m\u001b[0;34m)\u001b[0m\u001b[0;34m:\u001b[0m\u001b[0;34m\u001b[0m\u001b[0;34m\u001b[0m\u001b[0m\n",
      "\u001b[0;31mInvalidSchema\u001b[0m: No connection adapters were found for '<li class=\"result-row\" data-pid=\"7262674140\">\n<a class=\"result-image gallery\" data-ids=\"3:00t0t_82MUYPwLSgUz_0CI0hq,3:00303_6CrYg1WsGTRz_0CI0hq,3:00c0c_7VJvjjwJejoz_06s04Q,3:00202_1aonhvttUREz_0ak07K,3:00303_6gEqFnW4rZUz_06s04Q,3:01212_7HYcsN6AiFQz_0CI0lM\" href=\"https://phoenix.craigslist.org/evl/gms/d/mesa-estate-sale/7262674140.html\">\n<span class=\"result-price\">$0</span>\n</a>\n<div class=\"result-info\">\n<span class=\"icon icon-star\" role=\"button\">\n<span class=\"screen-reader-text\">favorite this post</span>\n</span>\n<h3 class=\"result-heading\">\n<a class=\"result-title hdrlnk\" data-id=\"7262674140\" href=\"https://phoenix.craigslist.org/evl/gms/d/mesa-estate-sale/7262674140.html\" id=\"postid_7262674140\">ESTATE SALE...............................</a>\n</h3>\n<span class=\"result-meta\">\n<span class=\"result-price\">$0</span>\n<span class=\"result-hood\"> (MESA)</span>\n<span class=\"result-tags\">\n<span class=\"pictag\">pic</span>\n</span>\n<span class=\"banish icon icon-trash\" role=\"button\">\n<span class=\"screen-reader-text\">hide this posting</span>\n</span>\n<span aria-hidden=\"true\" class=\"unbanish icon icon-trash red\" role=\"button\"></span>\n<a class=\"restore-link\" href=\"#\">\n<span class=\"restore-narrow-text\">restore</span>\n<span class=\"restore-wide-text\">restore this posting</span>\n</a>\n</span>\n</div>\n</li>'"
     ]
    }
   ],
   "source": [
    "for l in post_links:\n",
    "    print ('check',l)\n",
    "    result1 = requests.get(l)\n",
    "    result2 = BeautifulSoup(result1.text,'html.parser')\n",
    "    sleep(6)\n",
    "    body = result2.find_all(id='postingbody')\n",
    "    \n",
    "    try:\n",
    "        if 'mattress' in body.text:\n",
    "            print('mattress', l)\n",
    "        if 'wrench' in body.text:\n",
    "            print('wrench', l)\n",
    "        if 'cabinet' in body.text:\n",
    "            print('cabinet', l)\n",
    "    except:\n",
    "        print('error')"
   ]
  },
  {
   "cell_type": "code",
   "execution_count": null,
   "metadata": {},
   "outputs": [],
   "source": []
  }
 ],
 "metadata": {
  "kernelspec": {
   "display_name": "Python 3",
   "language": "python",
   "name": "python3"
  },
  "language_info": {
   "codemirror_mode": {
    "name": "ipython",
    "version": 3
   },
   "file_extension": ".py",
   "mimetype": "text/x-python",
   "name": "python",
   "nbconvert_exporter": "python",
   "pygments_lexer": "ipython3",
   "version": "3.7.6"
  }
 },
 "nbformat": 4,
 "nbformat_minor": 4
}
