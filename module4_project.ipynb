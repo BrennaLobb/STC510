{
 "cells": [
  {
   "cell_type": "code",
   "execution_count": null,
   "metadata": {},
   "outputs": [],
   "source": [
    "#steps:\n",
    "  #need to extract links\n",
    "  #sort through them to make sure you're only getting the links in teh gallery\n",
    "  #might need to look through BS docs at how to get hrefs from \"A\" tags\n",
    "  #ones you now have LIST of URLs, crawl 1 by one\n",
    "    #search teh text of the ads for keywords (matress, cabinet and wrench)\n",
    "\n",
    "  #store the list into a CSV that contains the (keyword and URL it's in)"
   ]
  },
  {
   "cell_type": "code",
   "execution_count": 99,
   "metadata": {},
   "outputs": [],
   "source": [
    "import requests\n",
    "from bs4 import BeautifulSoup\n",
    "from time import sleep\n",
    "import pandas as pd"
   ]
  },
  {
   "cell_type": "code",
   "execution_count": null,
   "metadata": {},
   "outputs": [],
   "source": [
    "# I realize this code doesn't work. i will try to fix it but i wanted to show you what\n",
    "#i currently have as of 10:46pm, monday night\n",
    "#so i can get some feedback to go off of.\n",
    "\n",
    "#i haven't been feeling the best, mentally with this homework i don't understand\n",
    "#with work, with the stress of graduating, etc.\n",
    "\n",
    "#so please bear?? (bare)?? with me. I am just trying to pass this class, that's all"
   ]
  },
  {
   "cell_type": "code",
   "execution_count": 101,
   "metadata": {},
   "outputs": [
    {
     "ename": "NameError",
     "evalue": "name 'get' is not defined",
     "output_type": "error",
     "traceback": [
      "\u001b[0;31m---------------------------------------------------------------------------\u001b[0m",
      "\u001b[0;31mNameError\u001b[0m                                 Traceback (most recent call last)",
      "\u001b[0;32m<ipython-input-101-d7ffe71869a5>\u001b[0m in \u001b[0;36m<module>\u001b[0;34m\u001b[0m\n\u001b[1;32m      3\u001b[0m \u001b[0mtimings\u001b[0m\u001b[0;34m=\u001b[0m \u001b[0;34m[\u001b[0m\u001b[0;34m]\u001b[0m\u001b[0;34m\u001b[0m\u001b[0;34m\u001b[0m\u001b[0m\n\u001b[1;32m      4\u001b[0m \u001b[0;34m\u001b[0m\u001b[0m\n\u001b[0;32m----> 5\u001b[0;31m \u001b[0mposts\u001b[0m \u001b[0;34m=\u001b[0m \u001b[0mget\u001b[0m\u001b[0;34m(\u001b[0m\u001b[0;34m'https://phoenix.craigslist.org/d/garage-moving-sales/search/gms'\u001b[0m\u001b[0;34m)\u001b[0m\u001b[0;34m\u001b[0m\u001b[0;34m\u001b[0m\u001b[0m\n\u001b[0m\u001b[1;32m      6\u001b[0m \u001b[0;34m\u001b[0m\u001b[0m\n\u001b[1;32m      7\u001b[0m \u001b[0;32mfor\u001b[0m \u001b[0mp\u001b[0m \u001b[0;32min\u001b[0m \u001b[0mposts\u001b[0m\u001b[0;34m:\u001b[0m\u001b[0;34m\u001b[0m\u001b[0;34m\u001b[0m\u001b[0m\n",
      "\u001b[0;31mNameError\u001b[0m: name 'get' is not defined"
     ]
    }
   ],
   "source": [
    "listing_titles =[]\n",
    "listing_links = []\n",
    "timings= []\n",
    "\n",
    "posts = requests.get('https://phoenix.craigslist.org/d/garage-moving-sales/search/gms')\n",
    "\n",
    "for p in posts:\n",
    "    result1 = get(\"https://phoenix.craigslist.org/d/garage-moving-sales/search/gms\" +\"s=\" + str(p))\n",
    "    sleep(10)\n",
    "    \n",
    "    bs = BeautifulSoup(result1.text, 'html.parser')\n",
    "    listing = bs.find_all('li', class_='result-row')\n",
    "    \n",
    "    for l in listing:\n",
    "        if l.find('span', class_='result-title hdrlink') is not None:\n",
    "            l_date = l.find('time', class_='result-date')\n",
    "            timings.append(l_date)\n",
    "            \n",
    "            listing_title = l.find('a', class_='result-title hdrlink')\n",
    "            list_title_txt = listing_title.text\n",
    "            listing_titles.append(list_title_txt)\n",
    "            \n",
    "            list_link = listing_title['href']\n",
    "            listing_links.append(list_link)"
   ]
  },
  {
   "cell_type": "code",
   "execution_count": null,
   "metadata": {},
   "outputs": [],
   "source": []
  }
 ],
 "metadata": {
  "kernelspec": {
   "display_name": "Python 3",
   "language": "python",
   "name": "python3"
  },
  "language_info": {
   "codemirror_mode": {
    "name": "ipython",
    "version": 3
   },
   "file_extension": ".py",
   "mimetype": "text/x-python",
   "name": "python",
   "nbconvert_exporter": "python",
   "pygments_lexer": "ipython3",
   "version": "3.7.6"
  }
 },
 "nbformat": 4,
 "nbformat_minor": 4
}
