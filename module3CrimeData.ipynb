{
  "nbformat": 4,
  "nbformat_minor": 0,
  "metadata": {
    "colab": {
      "name": "module3CrimeData.ipynb",
      "provenance": [],
      "authorship_tag": "ABX9TyOamC5ZgHVU2WZhua4h7H+X",
      "include_colab_link": true
    },
    "kernelspec": {
      "name": "python3",
      "display_name": "Python 3"
    }
  },
  "cells": [
    {
      "cell_type": "markdown",
      "metadata": {
        "id": "view-in-github",
        "colab_type": "text"
      },
      "source": [
        "<a href=\"https://colab.research.google.com/github/BrennaLobb/STC510/blob/main/module3CrimeData.ipynb\" target=\"_parent\"><img src=\"https://colab.research.google.com/assets/colab-badge.svg\" alt=\"Open In Colab\"/></a>"
      ]
    },
    {
      "cell_type": "markdown",
      "metadata": {
        "id": "qt85TyzCGBF4"
      },
      "source": [
        "want to know these specifics:\n",
        "1. where different crimes are occuring\n",
        "2. which areas crime is growing the fastest (or dropping the fastest)\n",
        "3. whether certain crimes are more common in certain areas of city\n",
        "4. ***just need data grouped by location (type of location or zipcode\n",
        "5. violent vs non-violent crimes??\n",
        "\n"
      ]
    },
    {
      "cell_type": "code",
      "metadata": {
        "id": "BGDexRg-xxmm"
      },
      "source": [
        "import numpy as np\n",
        "import pandas as pd\n",
        "import matplotlib.pyplot as plt\n",
        "import re\n",
        "import json"
      ],
      "execution_count": 6,
      "outputs": []
    },
    {
      "cell_type": "code",
      "metadata": {
        "colab": {
          "base_uri": "https://localhost:8080/"
        },
        "id": "C4B6d_Wi9hKk",
        "outputId": "5ce7eaa8-0956-4849-e127-1b28ff12f8e1"
      },
      "source": [
        "# read in the csv file from the Kaggle\n",
        "crimejson = pd.read_csv(\"crimestat.csv\")"
      ],
      "execution_count": 7,
      "outputs": [
        {
          "output_type": "stream",
          "text": [
            "/usr/local/lib/python3.6/dist-packages/IPython/core/interactiveshell.py:2718: DtypeWarning: Columns (0) have mixed types.Specify dtype option on import or set low_memory=False.\n",
            "  interactivity=interactivity, compiler=compiler, result=result)\n"
          ],
          "name": "stderr"
        }
      ]
    },
    {
      "cell_type": "code",
      "metadata": {
        "colab": {
          "base_uri": "https://localhost:8080/"
        },
        "id": "aiOO9ijoJeMB",
        "outputId": "f4d813ba-5567-4520-fdb7-441ba040990b"
      },
      "source": [
        "#make sure it's in the right format i.e a dataframe\n",
        "type(crimejson)"
      ],
      "execution_count": 33,
      "outputs": [
        {
          "output_type": "execute_result",
          "data": {
            "text/plain": [
              "0         85029.0\n",
              "1         85014.0\n",
              "2         85006.0\n",
              "3         85014.0\n",
              "4         85307.0\n",
              "           ...   \n",
              "341849    85051.0\n",
              "341850    85015.0\n",
              "341851    85041.0\n",
              "341852    85307.0\n",
              "341853    85051.0\n",
              "Name: ZIP, Length: 341854, dtype: float64"
            ]
          },
          "metadata": {
            "tags": []
          },
          "execution_count": 33
        }
      ]
    },
    {
      "cell_type": "code",
      "metadata": {
        "colab": {
          "base_uri": "https://localhost:8080/",
          "height": 204
        },
        "id": "830TwycRLrrT",
        "outputId": "4dd6c64f-bba7-49e9-894c-60cc20aedf6f"
      },
      "source": [
        "#check to see if it's in the right formatted table\n",
        "crimejson.head()"
      ],
      "execution_count": 9,
      "outputs": [
        {
          "output_type": "execute_result",
          "data": {
            "text/html": [
              "<div>\n",
              "<style scoped>\n",
              "    .dataframe tbody tr th:only-of-type {\n",
              "        vertical-align: middle;\n",
              "    }\n",
              "\n",
              "    .dataframe tbody tr th {\n",
              "        vertical-align: top;\n",
              "    }\n",
              "\n",
              "    .dataframe thead th {\n",
              "        text-align: right;\n",
              "    }\n",
              "</style>\n",
              "<table border=\"1\" class=\"dataframe\">\n",
              "  <thead>\n",
              "    <tr style=\"text-align: right;\">\n",
              "      <th></th>\n",
              "      <th>INC NUMBER</th>\n",
              "      <th>OCCURRED ON</th>\n",
              "      <th>OCCURRED TO</th>\n",
              "      <th>UCR CRIME CATEGORY</th>\n",
              "      <th>100 BLOCK ADDR</th>\n",
              "      <th>ZIP</th>\n",
              "      <th>PREMISE TYPE</th>\n",
              "    </tr>\n",
              "  </thead>\n",
              "  <tbody>\n",
              "    <tr>\n",
              "      <th>0</th>\n",
              "      <td>201600000052855</td>\n",
              "      <td>11/01/2015  00:00</td>\n",
              "      <td>01/09/2016  00:00</td>\n",
              "      <td>MOTOR VEHICLE THEFT</td>\n",
              "      <td>N 43RD AVE &amp; W CACTUS RD</td>\n",
              "      <td>85029.0</td>\n",
              "      <td>SINGLE FAMILY HOUSE</td>\n",
              "    </tr>\n",
              "    <tr>\n",
              "      <th>1</th>\n",
              "      <td>201500002168686</td>\n",
              "      <td>11/01/2015  00:00</td>\n",
              "      <td>11/11/2015  09:30</td>\n",
              "      <td>LARCENY-THEFT</td>\n",
              "      <td>14XX E HIGHLAND AVE</td>\n",
              "      <td>85014.0</td>\n",
              "      <td>PARKING LOT</td>\n",
              "    </tr>\n",
              "    <tr>\n",
              "      <th>2</th>\n",
              "      <td>201600000594484</td>\n",
              "      <td>11/01/2015  00:00</td>\n",
              "      <td>NaN</td>\n",
              "      <td>RAPE</td>\n",
              "      <td>13XX E ALMERIA RD</td>\n",
              "      <td>85006.0</td>\n",
              "      <td>SINGLE FAMILY HOUSE</td>\n",
              "    </tr>\n",
              "    <tr>\n",
              "      <th>3</th>\n",
              "      <td>201500002102327</td>\n",
              "      <td>11/01/2015  00:00</td>\n",
              "      <td>11/01/2015  09:00</td>\n",
              "      <td>LARCENY-THEFT</td>\n",
              "      <td>51XX N 15TH ST</td>\n",
              "      <td>85014.0</td>\n",
              "      <td>APARTMENT</td>\n",
              "    </tr>\n",
              "    <tr>\n",
              "      <th>4</th>\n",
              "      <td>201500002101405</td>\n",
              "      <td>11/01/2015  00:00</td>\n",
              "      <td>11/01/2015  05:00</td>\n",
              "      <td>MOTOR VEHICLE THEFT</td>\n",
              "      <td>102XX W MEDLOCK AVE</td>\n",
              "      <td>85307.0</td>\n",
              "      <td>SINGLE FAMILY HOUSE</td>\n",
              "    </tr>\n",
              "  </tbody>\n",
              "</table>\n",
              "</div>"
            ],
            "text/plain": [
              "        INC NUMBER        OCCURRED ON  ...      ZIP         PREMISE TYPE\n",
              "0  201600000052855  11/01/2015  00:00  ...  85029.0  SINGLE FAMILY HOUSE\n",
              "1  201500002168686  11/01/2015  00:00  ...  85014.0          PARKING LOT\n",
              "2  201600000594484  11/01/2015  00:00  ...  85006.0  SINGLE FAMILY HOUSE\n",
              "3  201500002102327  11/01/2015  00:00  ...  85014.0            APARTMENT\n",
              "4  201500002101405  11/01/2015  00:00  ...  85307.0  SINGLE FAMILY HOUSE\n",
              "\n",
              "[5 rows x 7 columns]"
            ]
          },
          "metadata": {
            "tags": []
          },
          "execution_count": 9
        }
      ]
    },
    {
      "cell_type": "code",
      "metadata": {
        "colab": {
          "base_uri": "https://localhost:8080/",
          "height": 538
        },
        "id": "63dV8snZO6Rr",
        "outputId": "325701a1-b073-4719-b87d-7529bdd08e07"
      },
      "source": [
        "crimejson.columns = ['INC_NUMBER','OCCURRED_ON','OCCURRED_TO','UCR_CRIME_CATEGORY','BLOCK_RADIUS_100','ZIP','PREMIS_TYPE']\n",
        "crimejson"
      ],
      "execution_count": 10,
      "outputs": [
        {
          "output_type": "execute_result",
          "data": {
            "text/html": [
              "<div>\n",
              "<style scoped>\n",
              "    .dataframe tbody tr th:only-of-type {\n",
              "        vertical-align: middle;\n",
              "    }\n",
              "\n",
              "    .dataframe tbody tr th {\n",
              "        vertical-align: top;\n",
              "    }\n",
              "\n",
              "    .dataframe thead th {\n",
              "        text-align: right;\n",
              "    }\n",
              "</style>\n",
              "<table border=\"1\" class=\"dataframe\">\n",
              "  <thead>\n",
              "    <tr style=\"text-align: right;\">\n",
              "      <th></th>\n",
              "      <th>INC_NUMBER</th>\n",
              "      <th>OCCURRED_ON</th>\n",
              "      <th>OCCURRED_TO</th>\n",
              "      <th>UCR_CRIME_CATEGORY</th>\n",
              "      <th>BLOCK_RADIUS_100</th>\n",
              "      <th>ZIP</th>\n",
              "      <th>PREMIS_TYPE</th>\n",
              "    </tr>\n",
              "  </thead>\n",
              "  <tbody>\n",
              "    <tr>\n",
              "      <th>0</th>\n",
              "      <td>201600000052855</td>\n",
              "      <td>11/01/2015  00:00</td>\n",
              "      <td>01/09/2016  00:00</td>\n",
              "      <td>MOTOR VEHICLE THEFT</td>\n",
              "      <td>N 43RD AVE &amp; W CACTUS RD</td>\n",
              "      <td>85029.0</td>\n",
              "      <td>SINGLE FAMILY HOUSE</td>\n",
              "    </tr>\n",
              "    <tr>\n",
              "      <th>1</th>\n",
              "      <td>201500002168686</td>\n",
              "      <td>11/01/2015  00:00</td>\n",
              "      <td>11/11/2015  09:30</td>\n",
              "      <td>LARCENY-THEFT</td>\n",
              "      <td>14XX E HIGHLAND AVE</td>\n",
              "      <td>85014.0</td>\n",
              "      <td>PARKING LOT</td>\n",
              "    </tr>\n",
              "    <tr>\n",
              "      <th>2</th>\n",
              "      <td>201600000594484</td>\n",
              "      <td>11/01/2015  00:00</td>\n",
              "      <td>NaN</td>\n",
              "      <td>RAPE</td>\n",
              "      <td>13XX E ALMERIA RD</td>\n",
              "      <td>85006.0</td>\n",
              "      <td>SINGLE FAMILY HOUSE</td>\n",
              "    </tr>\n",
              "    <tr>\n",
              "      <th>3</th>\n",
              "      <td>201500002102327</td>\n",
              "      <td>11/01/2015  00:00</td>\n",
              "      <td>11/01/2015  09:00</td>\n",
              "      <td>LARCENY-THEFT</td>\n",
              "      <td>51XX N 15TH ST</td>\n",
              "      <td>85014.0</td>\n",
              "      <td>APARTMENT</td>\n",
              "    </tr>\n",
              "    <tr>\n",
              "      <th>4</th>\n",
              "      <td>201500002101405</td>\n",
              "      <td>11/01/2015  00:00</td>\n",
              "      <td>11/01/2015  05:00</td>\n",
              "      <td>MOTOR VEHICLE THEFT</td>\n",
              "      <td>102XX W MEDLOCK AVE</td>\n",
              "      <td>85307.0</td>\n",
              "      <td>SINGLE FAMILY HOUSE</td>\n",
              "    </tr>\n",
              "    <tr>\n",
              "      <th>...</th>\n",
              "      <td>...</td>\n",
              "      <td>...</td>\n",
              "      <td>...</td>\n",
              "      <td>...</td>\n",
              "      <td>...</td>\n",
              "      <td>...</td>\n",
              "      <td>...</td>\n",
              "    </tr>\n",
              "    <tr>\n",
              "      <th>341849</th>\n",
              "      <td>202100000122076</td>\n",
              "      <td>01/23/2021  23:04</td>\n",
              "      <td>01/23/2021  23:04</td>\n",
              "      <td>AGGRAVATED ASSAULT</td>\n",
              "      <td>33XX W PEORIA AVE</td>\n",
              "      <td>85051.0</td>\n",
              "      <td>BAR / LOUNG / NIGHT CLUB</td>\n",
              "    </tr>\n",
              "    <tr>\n",
              "      <th>341850</th>\n",
              "      <td>202100000125891</td>\n",
              "      <td>01/23/2021  23:14</td>\n",
              "      <td>01/23/2021  23:16</td>\n",
              "      <td>LARCENY-THEFT</td>\n",
              "      <td>51XX N 19TH AVE</td>\n",
              "      <td>85015.0</td>\n",
              "      <td>VEHICLE</td>\n",
              "    </tr>\n",
              "    <tr>\n",
              "      <th>341851</th>\n",
              "      <td>202100000124896</td>\n",
              "      <td>01/23/2021  23:30</td>\n",
              "      <td>01/24/2021  14:00</td>\n",
              "      <td>MOTOR VEHICLE THEFT</td>\n",
              "      <td>53XX S 29TH LN</td>\n",
              "      <td>85041.0</td>\n",
              "      <td>VEHICLE</td>\n",
              "    </tr>\n",
              "    <tr>\n",
              "      <th>341852</th>\n",
              "      <td>202100000122249</td>\n",
              "      <td>01/23/2021  23:46</td>\n",
              "      <td>NaN</td>\n",
              "      <td>AGGRAVATED ASSAULT</td>\n",
              "      <td>51XX N 99TH AVE</td>\n",
              "      <td>85307.0</td>\n",
              "      <td>APARTMENT</td>\n",
              "    </tr>\n",
              "    <tr>\n",
              "      <th>341853</th>\n",
              "      <td>202100000122269</td>\n",
              "      <td>01/23/2021  23:52</td>\n",
              "      <td>NaN</td>\n",
              "      <td>AGGRAVATED ASSAULT</td>\n",
              "      <td>31XX W VOGEL AVE</td>\n",
              "      <td>85051.0</td>\n",
              "      <td>APARTMENT</td>\n",
              "    </tr>\n",
              "  </tbody>\n",
              "</table>\n",
              "<p>341854 rows × 7 columns</p>\n",
              "</div>"
            ],
            "text/plain": [
              "             INC_NUMBER        OCCURRED_ON  ...      ZIP               PREMIS_TYPE\n",
              "0       201600000052855  11/01/2015  00:00  ...  85029.0       SINGLE FAMILY HOUSE\n",
              "1       201500002168686  11/01/2015  00:00  ...  85014.0               PARKING LOT\n",
              "2       201600000594484  11/01/2015  00:00  ...  85006.0       SINGLE FAMILY HOUSE\n",
              "3       201500002102327  11/01/2015  00:00  ...  85014.0                 APARTMENT\n",
              "4       201500002101405  11/01/2015  00:00  ...  85307.0       SINGLE FAMILY HOUSE\n",
              "...                 ...                ...  ...      ...                       ...\n",
              "341849  202100000122076  01/23/2021  23:04  ...  85051.0  BAR / LOUNG / NIGHT CLUB\n",
              "341850  202100000125891  01/23/2021  23:14  ...  85015.0                   VEHICLE\n",
              "341851  202100000124896  01/23/2021  23:30  ...  85041.0                   VEHICLE\n",
              "341852  202100000122249  01/23/2021  23:46  ...  85307.0                 APARTMENT\n",
              "341853  202100000122269  01/23/2021  23:52  ...  85051.0                 APARTMENT\n",
              "\n",
              "[341854 rows x 7 columns]"
            ]
          },
          "metadata": {
            "tags": []
          },
          "execution_count": 10
        }
      ]
    },
    {
      "cell_type": "code",
      "metadata": {
        "colab": {
          "base_uri": "https://localhost:8080/",
          "height": 589
        },
        "id": "prwWOQJlNTh7",
        "outputId": "97e84b0d-3305-4393-d7a6-f2ddbf4c65bc"
      },
      "source": [
        "#below sorts the crime data by zipcodes\n",
        "zipcodes = crimejson.sort_values('ZIP')\n",
        "zipcodes"
      ],
      "execution_count": 11,
      "outputs": [
        {
          "output_type": "execute_result",
          "data": {
            "text/html": [
              "<div>\n",
              "<style scoped>\n",
              "    .dataframe tbody tr th:only-of-type {\n",
              "        vertical-align: middle;\n",
              "    }\n",
              "\n",
              "    .dataframe tbody tr th {\n",
              "        vertical-align: top;\n",
              "    }\n",
              "\n",
              "    .dataframe thead th {\n",
              "        text-align: right;\n",
              "    }\n",
              "</style>\n",
              "<table border=\"1\" class=\"dataframe\">\n",
              "  <thead>\n",
              "    <tr style=\"text-align: right;\">\n",
              "      <th></th>\n",
              "      <th>INC_NUMBER</th>\n",
              "      <th>OCCURRED_ON</th>\n",
              "      <th>OCCURRED_TO</th>\n",
              "      <th>UCR_CRIME_CATEGORY</th>\n",
              "      <th>BLOCK_RADIUS_100</th>\n",
              "      <th>ZIP</th>\n",
              "      <th>PREMIS_TYPE</th>\n",
              "    </tr>\n",
              "  </thead>\n",
              "  <tbody>\n",
              "    <tr>\n",
              "      <th>338847</th>\n",
              "      <td>202100000035697</td>\n",
              "      <td>01/07/2021  01:00</td>\n",
              "      <td>01/07/2021  02:00</td>\n",
              "      <td>MOTOR VEHICLE THEFT</td>\n",
              "      <td>W ADAMS ST &amp; N 1ST AVE</td>\n",
              "      <td>85003.0</td>\n",
              "      <td>STREET / ROADWAY / SIDEWALK</td>\n",
              "    </tr>\n",
              "    <tr>\n",
              "      <th>332794</th>\n",
              "      <td>202000001989914</td>\n",
              "      <td>12/05/2020  14:00</td>\n",
              "      <td>12/07/2020  07:20</td>\n",
              "      <td>LARCENY-THEFT</td>\n",
              "      <td>3XX W MCDOWELL RD</td>\n",
              "      <td>85003.0</td>\n",
              "      <td>NURSING CARE</td>\n",
              "    </tr>\n",
              "    <tr>\n",
              "      <th>206313</th>\n",
              "      <td>201900000050844</td>\n",
              "      <td>01/09/2019  20:43</td>\n",
              "      <td>NaN</td>\n",
              "      <td>LARCENY-THEFT</td>\n",
              "      <td>3XX W MCDOWELL RD</td>\n",
              "      <td>85003.0</td>\n",
              "      <td>GROCERY / SUPER MARKET</td>\n",
              "    </tr>\n",
              "    <tr>\n",
              "      <th>154406</th>\n",
              "      <td>201800000514117</td>\n",
              "      <td>03/24/2018  09:57</td>\n",
              "      <td>NaN</td>\n",
              "      <td>AGGRAVATED ASSAULT</td>\n",
              "      <td>2XX W JACKSON ST</td>\n",
              "      <td>85003.0</td>\n",
              "      <td>APARTMENT</td>\n",
              "    </tr>\n",
              "    <tr>\n",
              "      <th>18843</th>\n",
              "      <td>201600000328288</td>\n",
              "      <td>02/21/2016  00:35</td>\n",
              "      <td>NaN</td>\n",
              "      <td>AGGRAVATED ASSAULT</td>\n",
              "      <td>S 3RD AVE &amp; W BUCKEYE RD</td>\n",
              "      <td>85003.0</td>\n",
              "      <td>STREET / ROADWAY / ALLEY / SIDEWALK</td>\n",
              "    </tr>\n",
              "    <tr>\n",
              "      <th>...</th>\n",
              "      <td>...</td>\n",
              "      <td>...</td>\n",
              "      <td>...</td>\n",
              "      <td>...</td>\n",
              "      <td>...</td>\n",
              "      <td>...</td>\n",
              "      <td>...</td>\n",
              "    </tr>\n",
              "    <tr>\n",
              "      <th>79811</th>\n",
              "      <td>201700000206086</td>\n",
              "      <td>02/04/2017  10:00</td>\n",
              "      <td>02/04/2017  10:14</td>\n",
              "      <td>LARCENY-THEFT</td>\n",
              "      <td>XX W BASELINE AVE</td>\n",
              "      <td>NaN</td>\n",
              "      <td>SPECIALTY STORE</td>\n",
              "    </tr>\n",
              "    <tr>\n",
              "      <th>82385</th>\n",
              "      <td>201700000368400</td>\n",
              "      <td>02/18/2017  12:00</td>\n",
              "      <td>02/27/2017  15:23</td>\n",
              "      <td>LARCENY-THEFT</td>\n",
              "      <td>122XX N TABLE TOP RD</td>\n",
              "      <td>NaN</td>\n",
              "      <td>FENCED RESIDENTIAL YARD</td>\n",
              "    </tr>\n",
              "    <tr>\n",
              "      <th>174522</th>\n",
              "      <td>201880005657</td>\n",
              "      <td>07/18/2018  03:30</td>\n",
              "      <td>07/18/2018  08:07</td>\n",
              "      <td>LARCENY-THEFT</td>\n",
              "      <td>1XX E BROADWAY AVE</td>\n",
              "      <td>NaN</td>\n",
              "      <td>STREET / ROADWAY / ALLEY / SIDEWALK</td>\n",
              "    </tr>\n",
              "    <tr>\n",
              "      <th>201162</th>\n",
              "      <td>201800002191378</td>\n",
              "      <td>12/12/2018  13:33</td>\n",
              "      <td>NaN</td>\n",
              "      <td>LARCENY-THEFT</td>\n",
              "      <td>17XX W SOUTHERN AVE</td>\n",
              "      <td>NaN</td>\n",
              "      <td>RETAIL BUSINESS</td>\n",
              "    </tr>\n",
              "    <tr>\n",
              "      <th>248457</th>\n",
              "      <td>201900001445596</td>\n",
              "      <td>08/21/2019  20:15</td>\n",
              "      <td>08/21/2019  20:15</td>\n",
              "      <td>LARCENY-THEFT</td>\n",
              "      <td>16XX E SOUTHERN AVE</td>\n",
              "      <td>NaN</td>\n",
              "      <td>DEPARTMENT / DISCOUNT STORE</td>\n",
              "    </tr>\n",
              "  </tbody>\n",
              "</table>\n",
              "<p>341854 rows × 7 columns</p>\n",
              "</div>"
            ],
            "text/plain": [
              "             INC_NUMBER  ...                          PREMIS_TYPE\n",
              "338847  202100000035697  ...          STREET / ROADWAY / SIDEWALK\n",
              "332794  202000001989914  ...                         NURSING CARE\n",
              "206313  201900000050844  ...               GROCERY / SUPER MARKET\n",
              "154406  201800000514117  ...                            APARTMENT\n",
              "18843   201600000328288  ...  STREET / ROADWAY / ALLEY / SIDEWALK\n",
              "...                 ...  ...                                  ...\n",
              "79811   201700000206086  ...                      SPECIALTY STORE\n",
              "82385   201700000368400  ...              FENCED RESIDENTIAL YARD\n",
              "174522     201880005657  ...  STREET / ROADWAY / ALLEY / SIDEWALK\n",
              "201162  201800002191378  ...                      RETAIL BUSINESS\n",
              "248457  201900001445596  ...          DEPARTMENT / DISCOUNT STORE\n",
              "\n",
              "[341854 rows x 7 columns]"
            ]
          },
          "metadata": {
            "tags": []
          },
          "execution_count": 11
        }
      ]
    },
    {
      "cell_type": "code",
      "metadata": {
        "colab": {
          "base_uri": "https://localhost:8080/"
        },
        "id": "mnCXBL9pQwzl",
        "outputId": "874d1cd8-8fa0-4547-d43c-7a3b26be0435"
      },
      "source": [
        "#below sorts the data based on type of crime\n",
        "crime_type = crimejson.UCR_CRIME_CATEGORY.value_counts()\n",
        "crime_type"
      ],
      "execution_count": 12,
      "outputs": [
        {
          "output_type": "execute_result",
          "data": {
            "text/plain": [
              "LARCENY-THEFT                            174756\n",
              "BURGLARY                                  50407\n",
              "MOTOR VEHICLE THEFT                       36470\n",
              "DRUG OFFENSE                              29870\n",
              "AGGRAVATED ASSAULT                        27835\n",
              "ROBBERY                                   14240\n",
              "RAPE                                       5035\n",
              "ARSON                                      2487\n",
              "MURDER AND NON-NEGLIGENT MANSLAUGHTER       754\n",
              "Name: UCR_CRIME_CATEGORY, dtype: int64"
            ]
          },
          "metadata": {
            "tags": []
          },
          "execution_count": 12
        }
      ]
    },
    {
      "cell_type": "code",
      "metadata": {
        "colab": {
          "base_uri": "https://localhost:8080/"
        },
        "id": "l_4XGZNnREUg",
        "outputId": "282be152-a8f4-47a0-a409-2ebfc5329b89"
      },
      "source": [
        "#areas with fastest growing crime rates\n",
        "#counts number of crimes per zipcode\n",
        "zipcrimes = crimejson.ZIP.value_counts()\n",
        "zipcrimes\n",
        "#by counting the number of times a zipcode appears, we can say that th higher the value_count,\n",
        "#the more times that zipcode appeared, meaning the more crimes happened in that zipcode\n",
        "#below indicates that in the zipcode: 85015 has the highest crime rate"
      ],
      "execution_count": 14,
      "outputs": [
        {
          "output_type": "execute_result",
          "data": {
            "text/plain": [
              "85015.0    17456\n",
              "85008.0    16123\n",
              "85009.0    15304\n",
              "85051.0    15267\n",
              "85041.0    15052\n",
              "           ...  \n",
              "85239.0        1\n",
              "85209.0        1\n",
              "85268.0        1\n",
              "85266.0        1\n",
              "85259.0        1\n",
              "Name: ZIP, Length: 112, dtype: int64"
            ]
          },
          "metadata": {
            "tags": []
          },
          "execution_count": 14
        }
      ]
    }
  ]
}